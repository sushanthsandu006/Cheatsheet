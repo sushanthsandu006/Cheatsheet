{
  "nbformat": 4,
  "nbformat_minor": 0,
  "metadata": {
    "colab": {
      "name": "Untitled3.ipynb",
      "version": "0.3.2",
      "provenance": [],
      "include_colab_link": true
    },
    "kernelspec": {
      "name": "python3",
      "display_name": "Python 3"
    }
  },
  "cells": [
    {
      "cell_type": "markdown",
      "metadata": {
        "id": "view-in-github",
        "colab_type": "text"
      },
      "source": [
        "<a href=\"https://colab.research.google.com/github/sushanthsandu006/Cheatsheet/blob/master/SimplePreprocessor.ipynb\" target=\"_parent\"><img src=\"https://colab.research.google.com/assets/colab-badge.svg\" alt=\"Open In Colab\"/></a>"
      ]
    },
    {
      "cell_type": "code",
      "metadata": {
        "id": "waQRMSnCld6p",
        "colab_type": "code",
        "colab": {}
      },
      "source": [
        "import cv2\n",
        "import numpy as np\n",
        "import os\n",
        "\n",
        "class SimplePreprocessor:\n",
        "  def __init__(self, width, height, inter=cv2.INTER_AREA):\n",
        " # store the target image width, height, and interpolation\n",
        " # method used when resizing\n",
        "    self.width = width\n",
        "    self.height = height\n",
        "    self.inter = inter\n",
        "\n",
        "  def preprocess(self, image):\n",
        " # resize the image to a fixed size, ignoring the aspect\n",
        " # ratio\n",
        "    return cv2.resize(image, (self.width, self.height),\n",
        "      interpolation=self.inter)\n"
      ],
      "execution_count": 0,
      "outputs": []
    }
  ]
}